{
 "cells": [
  {
   "cell_type": "code",
   "execution_count": 1,
   "metadata": {},
   "outputs": [
    {
     "data": {
      "text/html": [
       "<div>\n",
       "<style scoped>\n",
       "    .dataframe tbody tr th:only-of-type {\n",
       "        vertical-align: middle;\n",
       "    }\n",
       "\n",
       "    .dataframe tbody tr th {\n",
       "        vertical-align: top;\n",
       "    }\n",
       "\n",
       "    .dataframe thead th {\n",
       "        text-align: right;\n",
       "    }\n",
       "</style>\n",
       "<table border=\"1\" class=\"dataframe\">\n",
       "  <thead>\n",
       "    <tr style=\"text-align: right;\">\n",
       "      <th></th>\n",
       "      <th>DEP_YYYYMM</th>\n",
       "      <th>DEP_DAY</th>\n",
       "      <th>DEP_HOUR</th>\n",
       "      <th>DEP_QTR</th>\n",
       "      <th>ARR_YYYYMM</th>\n",
       "      <th>ARR_DAY</th>\n",
       "      <th>ARR_HOUR</th>\n",
       "      <th>ARR_QTR</th>\n",
       "      <th>OFF_YYYYMM</th>\n",
       "      <th>OFF_DAY</th>\n",
       "      <th>...</th>\n",
       "      <th>OAG_S_ARR</th>\n",
       "      <th>T_OAG_S_AR</th>\n",
       "      <th>ADJ_OAG_ARR</th>\n",
       "      <th>T_ADJ_OAG_ARR</th>\n",
       "      <th>OOOI_ARR</th>\n",
       "      <th>T_OOOI_ARR</th>\n",
       "      <th>DELAY_TI</th>\n",
       "      <th>DIF_G2G</th>\n",
       "      <th>O_ARR_DEL</th>\n",
       "      <th>DELAY_ARR</th>\n",
       "    </tr>\n",
       "  </thead>\n",
       "  <tbody>\n",
       "    <tr>\n",
       "      <th>0</th>\n",
       "      <td>201804</td>\n",
       "      <td>24</td>\n",
       "      <td>11</td>\n",
       "      <td>1</td>\n",
       "      <td>201804</td>\n",
       "      <td>24</td>\n",
       "      <td>16</td>\n",
       "      <td>3</td>\n",
       "      <td>201804</td>\n",
       "      <td>24</td>\n",
       "      <td>...</td>\n",
       "      <td>1209069030</td>\n",
       "      <td>16:30</td>\n",
       "      <td>1209069030</td>\n",
       "      <td>16:30</td>\n",
       "      <td>1209068334</td>\n",
       "      <td>16:18</td>\n",
       "      <td>0.9</td>\n",
       "      <td>0</td>\n",
       "      <td>0</td>\n",
       "      <td>0</td>\n",
       "    </tr>\n",
       "    <tr>\n",
       "      <th>1</th>\n",
       "      <td>201801</td>\n",
       "      <td>7</td>\n",
       "      <td>6</td>\n",
       "      <td>3</td>\n",
       "      <td>201801</td>\n",
       "      <td>7</td>\n",
       "      <td>11</td>\n",
       "      <td>2</td>\n",
       "      <td>201801</td>\n",
       "      <td>7</td>\n",
       "      <td>...</td>\n",
       "      <td>1199805580</td>\n",
       "      <td>11:19</td>\n",
       "      <td>1199805580</td>\n",
       "      <td>11:19</td>\n",
       "      <td>1199804764</td>\n",
       "      <td>11:06</td>\n",
       "      <td>0.0</td>\n",
       "      <td>0</td>\n",
       "      <td>0</td>\n",
       "      <td>0</td>\n",
       "    </tr>\n",
       "    <tr>\n",
       "      <th>2</th>\n",
       "      <td>201803</td>\n",
       "      <td>9</td>\n",
       "      <td>1</td>\n",
       "      <td>3</td>\n",
       "      <td>201803</td>\n",
       "      <td>9</td>\n",
       "      <td>2</td>\n",
       "      <td>3</td>\n",
       "      <td>201803</td>\n",
       "      <td>9</td>\n",
       "      <td>...</td>\n",
       "      <td>1205048262</td>\n",
       "      <td>02:37</td>\n",
       "      <td>1205048262</td>\n",
       "      <td>02:37</td>\n",
       "      <td>1205050094</td>\n",
       "      <td>03:08</td>\n",
       "      <td>0.0</td>\n",
       "      <td>16</td>\n",
       "      <td>31</td>\n",
       "      <td>31</td>\n",
       "    </tr>\n",
       "    <tr>\n",
       "      <th>3</th>\n",
       "      <td>201804</td>\n",
       "      <td>1</td>\n",
       "      <td>13</td>\n",
       "      <td>3</td>\n",
       "      <td>201804</td>\n",
       "      <td>1</td>\n",
       "      <td>15</td>\n",
       "      <td>1</td>\n",
       "      <td>201804</td>\n",
       "      <td>1</td>\n",
       "      <td>...</td>\n",
       "      <td>1207077162</td>\n",
       "      <td>15:12</td>\n",
       "      <td>1207077162</td>\n",
       "      <td>15:12</td>\n",
       "      <td>1207080274</td>\n",
       "      <td>16:04</td>\n",
       "      <td>0.0</td>\n",
       "      <td>9</td>\n",
       "      <td>52</td>\n",
       "      <td>52</td>\n",
       "    </tr>\n",
       "    <tr>\n",
       "      <th>4</th>\n",
       "      <td>201801</td>\n",
       "      <td>9</td>\n",
       "      <td>22</td>\n",
       "      <td>1</td>\n",
       "      <td>201801</td>\n",
       "      <td>10</td>\n",
       "      <td>0</td>\n",
       "      <td>3</td>\n",
       "      <td>201801</td>\n",
       "      <td>9</td>\n",
       "      <td>...</td>\n",
       "      <td>1200026082</td>\n",
       "      <td>00:34</td>\n",
       "      <td>1200026082</td>\n",
       "      <td>00:34</td>\n",
       "      <td>1200024032</td>\n",
       "      <td>00:00</td>\n",
       "      <td>0.0</td>\n",
       "      <td>0</td>\n",
       "      <td>0</td>\n",
       "      <td>0</td>\n",
       "    </tr>\n",
       "  </tbody>\n",
       "</table>\n",
       "<p>5 rows × 81 columns</p>\n",
       "</div>"
      ],
      "text/plain": [
       "   DEP_YYYYMM  DEP_DAY  DEP_HOUR  DEP_QTR  ARR_YYYYMM  ARR_DAY  ARR_HOUR  \\\n",
       "0      201804       24        11        1      201804       24        16   \n",
       "1      201801        7         6        3      201801        7        11   \n",
       "2      201803        9         1        3      201803        9         2   \n",
       "3      201804        1        13        3      201804        1        15   \n",
       "4      201801        9        22        1      201801       10         0   \n",
       "\n",
       "   ARR_QTR  OFF_YYYYMM  OFF_DAY    ...      OAG_S_ARR  T_OAG_S_AR  \\\n",
       "0        3      201804       24    ...     1209069030       16:30   \n",
       "1        2      201801        7    ...     1199805580       11:19   \n",
       "2        3      201803        9    ...     1205048262       02:37   \n",
       "3        1      201804        1    ...     1207077162       15:12   \n",
       "4        3      201801        9    ...     1200026082       00:34   \n",
       "\n",
       "   ADJ_OAG_ARR  T_ADJ_OAG_ARR    OOOI_ARR  T_OOOI_ARR DELAY_TI  DIF_G2G  \\\n",
       "0   1209069030          16:30  1209068334       16:18      0.9        0   \n",
       "1   1199805580          11:19  1199804764       11:06      0.0        0   \n",
       "2   1205048262          02:37  1205050094       03:08      0.0       16   \n",
       "3   1207077162          15:12  1207080274       16:04      0.0        9   \n",
       "4   1200026082          00:34  1200024032       00:00      0.0        0   \n",
       "\n",
       "  O_ARR_DEL DELAY_ARR  \n",
       "0         0         0  \n",
       "1         0         0  \n",
       "2        31        31  \n",
       "3        52        52  \n",
       "4         0         0  \n",
       "\n",
       "[5 rows x 81 columns]"
      ]
     },
     "execution_count": 1,
     "metadata": {},
     "output_type": "execute_result"
    }
   ],
   "source": [
    "import pandas as pd\n",
    "data=pd.read_csv('APM_FILE_ORDER_MHANSEN_03142019205647 2.csv')\n",
    "data.head()"
   ]
  },
  {
   "cell_type": "code",
   "execution_count": 2,
   "metadata": {},
   "outputs": [
    {
     "data": {
      "text/plain": [
       "220358"
      ]
     },
     "execution_count": 2,
     "metadata": {},
     "output_type": "execute_result"
    }
   ],
   "source": [
    "len(data)"
   ]
  },
  {
   "cell_type": "code",
   "execution_count": 3,
   "metadata": {},
   "outputs": [
    {
     "data": {
      "text/html": [
       "<div>\n",
       "<style scoped>\n",
       "    .dataframe tbody tr th:only-of-type {\n",
       "        vertical-align: middle;\n",
       "    }\n",
       "\n",
       "    .dataframe tbody tr th {\n",
       "        vertical-align: top;\n",
       "    }\n",
       "\n",
       "    .dataframe thead th {\n",
       "        text-align: right;\n",
       "    }\n",
       "</style>\n",
       "<table border=\"1\" class=\"dataframe\">\n",
       "  <thead>\n",
       "    <tr style=\"text-align: right;\">\n",
       "      <th></th>\n",
       "      <th>OOOI_DEP</th>\n",
       "      <th>T_OOOI_DEP</th>\n",
       "      <th>TAXI_OUT</th>\n",
       "    </tr>\n",
       "  </thead>\n",
       "  <tbody>\n",
       "    <tr>\n",
       "      <th>0</th>\n",
       "      <td>1209050040</td>\n",
       "      <td>11:14</td>\n",
       "      <td>21</td>\n",
       "    </tr>\n",
       "    <tr>\n",
       "      <th>1</th>\n",
       "      <td>1199792182</td>\n",
       "      <td>06:36</td>\n",
       "      <td>23</td>\n",
       "    </tr>\n",
       "    <tr>\n",
       "      <th>2</th>\n",
       "      <td>1205045040</td>\n",
       "      <td>01:44</td>\n",
       "      <td>23</td>\n",
       "    </tr>\n",
       "    <tr>\n",
       "      <th>3</th>\n",
       "      <td>1207073580</td>\n",
       "      <td>14:13</td>\n",
       "      <td>19</td>\n",
       "    </tr>\n",
       "    <tr>\n",
       "      <th>4</th>\n",
       "      <td>1200018240</td>\n",
       "      <td>21:24</td>\n",
       "      <td>17</td>\n",
       "    </tr>\n",
       "  </tbody>\n",
       "</table>\n",
       "</div>"
      ],
      "text/plain": [
       "     OOOI_DEP T_OOOI_DEP  TAXI_OUT\n",
       "0  1209050040      11:14        21\n",
       "1  1199792182      06:36        23\n",
       "2  1205045040      01:44        23\n",
       "3  1207073580      14:13        19\n",
       "4  1200018240      21:24        17"
      ]
     },
     "execution_count": 3,
     "metadata": {},
     "output_type": "execute_result"
    }
   ],
   "source": [
    "taxi_out=data[['OOOI_DEP','T_OOOI_DEP','TAXI_OUT']]\n",
    "taxi_out.head()"
   ]
  },
  {
   "cell_type": "code",
   "execution_count": 4,
   "metadata": {},
   "outputs": [
    {
     "name": "stderr",
     "output_type": "stream",
     "text": [
      "/anaconda3/lib/python3.6/site-packages/ipykernel_launcher.py:1: SettingWithCopyWarning: \n",
      "A value is trying to be set on a copy of a slice from a DataFrame.\n",
      "Try using .loc[row_indexer,col_indexer] = value instead\n",
      "\n",
      "See the caveats in the documentation: http://pandas.pydata.org/pandas-docs/stable/indexing.html#indexing-view-versus-copy\n",
      "  \"\"\"Entry point for launching an IPython kernel.\n",
      "/anaconda3/lib/python3.6/site-packages/ipykernel_launcher.py:2: SettingWithCopyWarning: \n",
      "A value is trying to be set on a copy of a slice from a DataFrame.\n",
      "Try using .loc[row_indexer,col_indexer] = value instead\n",
      "\n",
      "See the caveats in the documentation: http://pandas.pydata.org/pandas-docs/stable/indexing.html#indexing-view-versus-copy\n",
      "  \n",
      "/anaconda3/lib/python3.6/site-packages/ipykernel_launcher.py:3: SettingWithCopyWarning: \n",
      "A value is trying to be set on a copy of a slice from a DataFrame.\n",
      "Try using .loc[row_indexer,col_indexer] = value instead\n",
      "\n",
      "See the caveats in the documentation: http://pandas.pydata.org/pandas-docs/stable/indexing.html#indexing-view-versus-copy\n",
      "  This is separate from the ipykernel package so we can avoid doing imports until\n"
     ]
    }
   ],
   "source": [
    "taxi_out['time']=pd.to_datetime(taxi_out['OOOI_DEP'], unit='s',origin=pd.Timestamp('1980-01-01'))\n",
    "taxi_out['time']=pd.to_datetime(taxi_out['time']).dt.tz_localize(\"GMT\").dt.tz_convert('US/Eastern').dt.tz_localize(None)\n",
    "taxi_out['day']=taxi_out['time'].dt.dayofweek+1"
   ]
  },
  {
   "cell_type": "code",
   "execution_count": 5,
   "metadata": {},
   "outputs": [
    {
     "name": "stderr",
     "output_type": "stream",
     "text": [
      "/anaconda3/lib/python3.6/site-packages/ipykernel_launcher.py:1: SettingWithCopyWarning: \n",
      "A value is trying to be set on a copy of a slice from a DataFrame.\n",
      "Try using .loc[row_indexer,col_indexer] = value instead\n",
      "\n",
      "See the caveats in the documentation: http://pandas.pydata.org/pandas-docs/stable/indexing.html#indexing-view-versus-copy\n",
      "  \"\"\"Entry point for launching an IPython kernel.\n"
     ]
    },
    {
     "data": {
      "text/html": [
       "<div>\n",
       "<style scoped>\n",
       "    .dataframe tbody tr th:only-of-type {\n",
       "        vertical-align: middle;\n",
       "    }\n",
       "\n",
       "    .dataframe tbody tr th {\n",
       "        vertical-align: top;\n",
       "    }\n",
       "\n",
       "    .dataframe thead th {\n",
       "        text-align: right;\n",
       "    }\n",
       "</style>\n",
       "<table border=\"1\" class=\"dataframe\">\n",
       "  <thead>\n",
       "    <tr style=\"text-align: right;\">\n",
       "      <th></th>\n",
       "      <th>OOOI_DEP</th>\n",
       "      <th>T_OOOI_DEP</th>\n",
       "      <th>TAXI_OUT</th>\n",
       "      <th>time</th>\n",
       "      <th>day</th>\n",
       "      <th>hour</th>\n",
       "    </tr>\n",
       "  </thead>\n",
       "  <tbody>\n",
       "    <tr>\n",
       "      <th>0</th>\n",
       "      <td>1209050040</td>\n",
       "      <td>11:14</td>\n",
       "      <td>21</td>\n",
       "      <td>2018-04-24 11:14:00</td>\n",
       "      <td>2</td>\n",
       "      <td>11</td>\n",
       "    </tr>\n",
       "    <tr>\n",
       "      <th>1</th>\n",
       "      <td>1199792182</td>\n",
       "      <td>06:36</td>\n",
       "      <td>23</td>\n",
       "      <td>2018-01-07 06:36:22</td>\n",
       "      <td>7</td>\n",
       "      <td>6</td>\n",
       "    </tr>\n",
       "    <tr>\n",
       "      <th>2</th>\n",
       "      <td>1205045040</td>\n",
       "      <td>01:44</td>\n",
       "      <td>23</td>\n",
       "      <td>2018-03-09 01:44:00</td>\n",
       "      <td>5</td>\n",
       "      <td>1</td>\n",
       "    </tr>\n",
       "    <tr>\n",
       "      <th>3</th>\n",
       "      <td>1207073580</td>\n",
       "      <td>14:13</td>\n",
       "      <td>19</td>\n",
       "      <td>2018-04-01 14:13:00</td>\n",
       "      <td>7</td>\n",
       "      <td>14</td>\n",
       "    </tr>\n",
       "    <tr>\n",
       "      <th>4</th>\n",
       "      <td>1200018240</td>\n",
       "      <td>21:24</td>\n",
       "      <td>17</td>\n",
       "      <td>2018-01-09 21:24:00</td>\n",
       "      <td>2</td>\n",
       "      <td>21</td>\n",
       "    </tr>\n",
       "  </tbody>\n",
       "</table>\n",
       "</div>"
      ],
      "text/plain": [
       "     OOOI_DEP T_OOOI_DEP  TAXI_OUT                time  day  hour\n",
       "0  1209050040      11:14        21 2018-04-24 11:14:00    2    11\n",
       "1  1199792182      06:36        23 2018-01-07 06:36:22    7     6\n",
       "2  1205045040      01:44        23 2018-03-09 01:44:00    5     1\n",
       "3  1207073580      14:13        19 2018-04-01 14:13:00    7    14\n",
       "4  1200018240      21:24        17 2018-01-09 21:24:00    2    21"
      ]
     },
     "execution_count": 5,
     "metadata": {},
     "output_type": "execute_result"
    }
   ],
   "source": [
    "taxi_out['hour']=taxi_out['time'].dt.hour\n",
    "taxi_out.head()"
   ]
  },
  {
   "cell_type": "code",
   "execution_count": 6,
   "metadata": {},
   "outputs": [],
   "source": [
    "cluster=taxi_out[['time','TAXI_OUT','hour']].set_index('time')"
   ]
  },
  {
   "cell_type": "code",
   "execution_count": 7,
   "metadata": {},
   "outputs": [],
   "source": [
    "import numpy as np\n",
    "cluster_re=cluster.groupby([pd.Grouper(freq=\"D\"),'hour']).agg(np.mean)\n",
    "#clusterday=clusterday.unstack(level=-1)\n",
    "#cluster=taxi_out.groupby([taxi_out.time.dt.hour])#['TAXI_OUT'].agg(np.mean)"
   ]
  },
  {
   "cell_type": "markdown",
   "metadata": {},
   "source": [
    "## Start Here"
   ]
  },
  {
   "cell_type": "code",
   "execution_count": 8,
   "metadata": {},
   "outputs": [
    {
     "name": "stdout",
     "output_type": "stream",
     "text": [
      "8636\n"
     ]
    },
    {
     "data": {
      "text/html": [
       "<div>\n",
       "<style scoped>\n",
       "    .dataframe tbody tr th:only-of-type {\n",
       "        vertical-align: middle;\n",
       "    }\n",
       "\n",
       "    .dataframe tbody tr th {\n",
       "        vertical-align: top;\n",
       "    }\n",
       "\n",
       "    .dataframe thead th {\n",
       "        text-align: right;\n",
       "    }\n",
       "</style>\n",
       "<table border=\"1\" class=\"dataframe\">\n",
       "  <thead>\n",
       "    <tr style=\"text-align: right;\">\n",
       "      <th></th>\n",
       "      <th>time</th>\n",
       "      <th>hour</th>\n",
       "      <th>TAXI_OUT</th>\n",
       "    </tr>\n",
       "  </thead>\n",
       "  <tbody>\n",
       "    <tr>\n",
       "      <th>0</th>\n",
       "      <td>2018-01-01</td>\n",
       "      <td>0</td>\n",
       "      <td>22.142857</td>\n",
       "    </tr>\n",
       "    <tr>\n",
       "      <th>1</th>\n",
       "      <td>2018-01-01</td>\n",
       "      <td>1</td>\n",
       "      <td>20.833333</td>\n",
       "    </tr>\n",
       "    <tr>\n",
       "      <th>2</th>\n",
       "      <td>2018-01-01</td>\n",
       "      <td>2</td>\n",
       "      <td>19.500000</td>\n",
       "    </tr>\n",
       "    <tr>\n",
       "      <th>3</th>\n",
       "      <td>2018-01-01</td>\n",
       "      <td>3</td>\n",
       "      <td>14.000000</td>\n",
       "    </tr>\n",
       "    <tr>\n",
       "      <th>4</th>\n",
       "      <td>2018-01-01</td>\n",
       "      <td>4</td>\n",
       "      <td>19.000000</td>\n",
       "    </tr>\n",
       "  </tbody>\n",
       "</table>\n",
       "</div>"
      ],
      "text/plain": [
       "        time  hour   TAXI_OUT\n",
       "0 2018-01-01     0  22.142857\n",
       "1 2018-01-01     1  20.833333\n",
       "2 2018-01-01     2  19.500000\n",
       "3 2018-01-01     3  14.000000\n",
       "4 2018-01-01     4  19.000000"
      ]
     },
     "execution_count": 8,
     "metadata": {},
     "output_type": "execute_result"
    }
   ],
   "source": [
    "clusterday=cluster_re.reset_index()\n",
    "print(len(clusterday))\n",
    "clusterday.head()"
   ]
  },
  {
   "cell_type": "code",
   "execution_count": 19,
   "metadata": {},
   "outputs": [
    {
     "name": "stdout",
     "output_type": "stream",
     "text": [
      "8629\n"
     ]
    },
    {
     "data": {
      "text/html": [
       "<div>\n",
       "<style scoped>\n",
       "    .dataframe tbody tr th:only-of-type {\n",
       "        vertical-align: middle;\n",
       "    }\n",
       "\n",
       "    .dataframe tbody tr th {\n",
       "        vertical-align: top;\n",
       "    }\n",
       "\n",
       "    .dataframe thead th {\n",
       "        text-align: right;\n",
       "    }\n",
       "</style>\n",
       "<table border=\"1\" class=\"dataframe\">\n",
       "  <thead>\n",
       "    <tr style=\"text-align: right;\">\n",
       "      <th></th>\n",
       "      <th>time</th>\n",
       "      <th>hour</th>\n",
       "      <th>TAXI_OUT</th>\n",
       "      <th>dayofweek</th>\n",
       "      <th>day</th>\n",
       "      <th>month</th>\n",
       "      <th>previous1</th>\n",
       "      <th>pre6_avg</th>\n",
       "    </tr>\n",
       "  </thead>\n",
       "  <tbody>\n",
       "    <tr>\n",
       "      <th>7</th>\n",
       "      <td>2018-01-01</td>\n",
       "      <td>7</td>\n",
       "      <td>22.393939</td>\n",
       "      <td>0</td>\n",
       "      <td>1</td>\n",
       "      <td>1</td>\n",
       "      <td>22.933333</td>\n",
       "      <td>20.706818</td>\n",
       "    </tr>\n",
       "    <tr>\n",
       "      <th>8</th>\n",
       "      <td>2018-01-01</td>\n",
       "      <td>8</td>\n",
       "      <td>30.272727</td>\n",
       "      <td>0</td>\n",
       "      <td>1</td>\n",
       "      <td>1</td>\n",
       "      <td>22.393939</td>\n",
       "      <td>23.525000</td>\n",
       "    </tr>\n",
       "    <tr>\n",
       "      <th>9</th>\n",
       "      <td>2018-01-01</td>\n",
       "      <td>9</td>\n",
       "      <td>25.655172</td>\n",
       "      <td>0</td>\n",
       "      <td>1</td>\n",
       "      <td>1</td>\n",
       "      <td>30.272727</td>\n",
       "      <td>25.313793</td>\n",
       "    </tr>\n",
       "    <tr>\n",
       "      <th>10</th>\n",
       "      <td>2018-01-01</td>\n",
       "      <td>10</td>\n",
       "      <td>25.875000</td>\n",
       "      <td>0</td>\n",
       "      <td>1</td>\n",
       "      <td>1</td>\n",
       "      <td>25.655172</td>\n",
       "      <td>26.049210</td>\n",
       "    </tr>\n",
       "    <tr>\n",
       "      <th>11</th>\n",
       "      <td>2018-01-01</td>\n",
       "      <td>11</td>\n",
       "      <td>28.578947</td>\n",
       "      <td>0</td>\n",
       "      <td>1</td>\n",
       "      <td>1</td>\n",
       "      <td>25.875000</td>\n",
       "      <td>27.595462</td>\n",
       "    </tr>\n",
       "    <tr>\n",
       "      <th>12</th>\n",
       "      <td>2018-01-01</td>\n",
       "      <td>12</td>\n",
       "      <td>34.000000</td>\n",
       "      <td>0</td>\n",
       "      <td>1</td>\n",
       "      <td>1</td>\n",
       "      <td>28.578947</td>\n",
       "      <td>28.527280</td>\n",
       "    </tr>\n",
       "    <tr>\n",
       "      <th>13</th>\n",
       "      <td>2018-01-01</td>\n",
       "      <td>13</td>\n",
       "      <td>37.400000</td>\n",
       "      <td>0</td>\n",
       "      <td>1</td>\n",
       "      <td>1</td>\n",
       "      <td>34.000000</td>\n",
       "      <td>31.463487</td>\n",
       "    </tr>\n",
       "    <tr>\n",
       "      <th>14</th>\n",
       "      <td>2018-01-01</td>\n",
       "      <td>14</td>\n",
       "      <td>22.827586</td>\n",
       "      <td>0</td>\n",
       "      <td>1</td>\n",
       "      <td>1</td>\n",
       "      <td>37.400000</td>\n",
       "      <td>30.701633</td>\n",
       "    </tr>\n",
       "    <tr>\n",
       "      <th>15</th>\n",
       "      <td>2018-01-01</td>\n",
       "      <td>15</td>\n",
       "      <td>27.225806</td>\n",
       "      <td>0</td>\n",
       "      <td>1</td>\n",
       "      <td>1</td>\n",
       "      <td>22.827586</td>\n",
       "      <td>30.363348</td>\n",
       "    </tr>\n",
       "    <tr>\n",
       "      <th>16</th>\n",
       "      <td>2018-01-01</td>\n",
       "      <td>16</td>\n",
       "      <td>21.787879</td>\n",
       "      <td>0</td>\n",
       "      <td>1</td>\n",
       "      <td>1</td>\n",
       "      <td>27.225806</td>\n",
       "      <td>27.310318</td>\n",
       "    </tr>\n",
       "  </tbody>\n",
       "</table>\n",
       "</div>"
      ],
      "text/plain": [
       "         time  hour   TAXI_OUT  dayofweek  day  month  previous1   pre6_avg\n",
       "7  2018-01-01     7  22.393939          0    1      1  22.933333  20.706818\n",
       "8  2018-01-01     8  30.272727          0    1      1  22.393939  23.525000\n",
       "9  2018-01-01     9  25.655172          0    1      1  30.272727  25.313793\n",
       "10 2018-01-01    10  25.875000          0    1      1  25.655172  26.049210\n",
       "11 2018-01-01    11  28.578947          0    1      1  25.875000  27.595462\n",
       "12 2018-01-01    12  34.000000          0    1      1  28.578947  28.527280\n",
       "13 2018-01-01    13  37.400000          0    1      1  34.000000  31.463487\n",
       "14 2018-01-01    14  22.827586          0    1      1  37.400000  30.701633\n",
       "15 2018-01-01    15  27.225806          0    1      1  22.827586  30.363348\n",
       "16 2018-01-01    16  21.787879          0    1      1  27.225806  27.310318"
      ]
     },
     "execution_count": 19,
     "metadata": {},
     "output_type": "execute_result"
    }
   ],
   "source": [
    "clusterday['time']=pd.to_datetime(clusterday['time'])\n",
    "clusterday['dayofweek']=clusterday['time'].dt.dayofweek\n",
    "clusterday['day']=clusterday['time'].dt.day\n",
    "clusterday['month']=clusterday['time'].dt.month\n",
    "clusterday['previous1']=clusterday['TAXI_OUT'].shift(periods=1)\n",
    "clusterday['pre6_avg']=clusterday['TAXI_OUT'].rolling(4).mean()\n",
    "clusterday=clusterday.dropna()\n",
    "print(len(clusterday))\n",
    "clusterday.head(10)"
   ]
  },
  {
   "cell_type": "code",
   "execution_count": 20,
   "metadata": {},
   "outputs": [],
   "source": [
    "feature=clusterday.drop(['time','TAXI_OUT'],axis=1)\n",
    "feature_list = list(feature.columns)\n",
    "feature=np.array(feature)\n",
    "labels = np.array(clusterday['TAXI_OUT'])"
   ]
  },
  {
   "cell_type": "code",
   "execution_count": 29,
   "metadata": {},
   "outputs": [],
   "source": [
    "from sklearn.model_selection import train_test_split\n",
    "train_x, test_x, train_y, test_y = train_test_split(feature, labels, test_size = 0.25, random_state = 42)\n"
   ]
  },
  {
   "cell_type": "code",
   "execution_count": 30,
   "metadata": {},
   "outputs": [
    {
     "name": "stdout",
     "output_type": "stream",
     "text": [
      "Mean Absolute Error: 3.41 degrees.\n"
     ]
    }
   ],
   "source": [
    "from sklearn.ensemble import RandomForestRegressor\n",
    "rf = RandomForestRegressor(n_estimators = 1000, random_state = 42)\n",
    "rf.fit(train_x, train_y)\n",
    "predictions = rf.predict(test_x)\n",
    "errors = abs(predictions - test_y)\n",
    "print('Mean Absolute Error:', round(np.mean(errors), 2), 'degrees.')"
   ]
  },
  {
   "cell_type": "code",
   "execution_count": 31,
   "metadata": {},
   "outputs": [
    {
     "name": "stdout",
     "output_type": "stream",
     "text": [
      "Accuracy: 87.27 %.\n"
     ]
    }
   ],
   "source": [
    "mape = 100 * (errors / test_y)\n",
    "accuracy = 100 - np.mean(mape)\n",
    "print('Accuracy:', round(accuracy, 2), '%.')"
   ]
  },
  {
   "cell_type": "code",
   "execution_count": 32,
   "metadata": {},
   "outputs": [
    {
     "data": {
      "image/png": "[encoded data removed]",
      "text/plain": [
       "<Figure size 432x288 with 1 Axes>"
      ]
     },
     "metadata": {},
     "output_type": "display_data"
    }
   ],
   "source": [
    "import matplotlib.pyplot as plt\n",
    "%matplotlib inline\n",
    "x = np.linspace(0, 130, 1000)\n",
    "plt.scatter(predictions,test_y)\n",
    "plt.plot(x,x,color='r')\n",
    "plt.xlabel('Actual Taxi-Out Time')\n",
    "plt.ylabel('Predicted Taxi-Out Time');"
   ]
  },
  {
   "cell_type": "code",
   "execution_count": 33,
   "metadata": {},
   "outputs": [],
   "source": [
    "from sklearn.tree import export_graphviz\n",
    "import pydot\n",
    "#tree = rf.estimators_[5]\n",
    "\n",
    "#export_graphviz(tree, out_file = 'tree.dot', feature_names = feature_list, rounded = True, precision = 1)\n",
    "#(graph, ) = pydot.graph_from_dot_file('tree.dot')\n",
    "#graph.write_png('tree.png')"
   ]
  },
  {
   "cell_type": "code",
   "execution_count": 34,
   "metadata": {},
   "outputs": [
    {
     "name": "stdout",
     "output_type": "stream",
     "text": [
      "Variable: previous1            Importance: 0.56\n",
      "Variable: pre6_avg             Importance: 0.27\n",
      "Variable: hour                 Importance: 0.1\n",
      "Variable: day                  Importance: 0.03\n",
      "Variable: month                Importance: 0.03\n",
      "Variable: dayofweek            Importance: 0.02\n"
     ]
    }
   ],
   "source": [
    "importances = list(rf.feature_importances_)\n",
    "feature_importances = [(feature, round(importance, 2)) for feature, importance in zip(feature_list, importances)]\n",
    "feature_importances = sorted(feature_importances, key = lambda x: x[1], reverse = True)\n",
    "[print('Variable: {:20} Importance: {}'.format(*pair)) for pair in feature_importances];"
   ]
  },
  {
   "cell_type": "code",
   "execution_count": 35,
   "metadata": {},
   "outputs": [
    {
     "data": {
      "image/png": "[encoded data removed]",
      "text/plain": [
       "<Figure size 432x288 with 1 Axes>"
      ]
     },
     "metadata": {},
     "output_type": "display_data"
    }
   ],
   "source": [
    "plt.style.use('fivethirtyeight')\n",
    "x_values = list(range(len(importances)))\n",
    "plt.bar(x_values, importances, orientation = 'vertical')\n",
    "plt.xticks(x_values, feature_list, rotation='vertical')\n",
    "plt.ylabel('Importance'); plt.xlabel('Variable'); plt.title('Variable Importances');"
   ]
  },
  {
   "cell_type": "code",
   "execution_count": 36,
   "metadata": {},
   "outputs": [
    {
     "data": {
      "image/png": "[encoded data removed]",
      "text/plain": [
       "<Figure size 432x288 with 1 Axes>"
      ]
     },
     "metadata": {},
     "output_type": "display_data"
    }
   ],
   "source": [
    "import datetime\n",
    "year=2018\n",
    "months = feature[:, feature_list.index('month')]\n",
    "days = feature[:, feature_list.index('day')]\n",
    "# List and then convert to datetime object\n",
    "dates = [ str(year) + '-' +str(int(month)) + '-' + str(int(day)) for month, day in zip(months, days)]\n",
    "dates = [datetime.datetime.strptime(date, '%Y-%m-%d') for date in dates]\n",
    "true_data = pd.DataFrame(data = {'date': dates, 'actual': labels})\n",
    "\n",
    "year=2018\n",
    "months = test_x[:, feature_list.index('month')]\n",
    "days = test_x[:, feature_list.index('day')]\n",
    "\n",
    "test_dates = [str(2018) + '-' +str(int(month)) + '-' + str(int(day)) for month, day in zip(months, days)]\n",
    "test_dates = [datetime.datetime.strptime(date, '%Y-%m-%d') for date in test_dates]\n",
    "predictions_data = pd.DataFrame(data = {'date': test_dates, 'prediction': predictions})\n",
    "\n",
    "plt.plot(true_data['date'], true_data['actual'], 'b-', label = 'actual')\n",
    "\n",
    "plt.plot(predictions_data['date'], predictions_data['prediction'], 'ro', label = 'prediction')\n",
    "plt.xticks(rotation = '60'); \n",
    "plt.legend()\n",
    "plt.xlabel('Date'); plt.ylabel('Taxi_out Time (min)'); plt.title('Actual and Predicted Values');"
   ]
  },
  {
   "cell_type": "code",
   "execution_count": 3,
   "metadata": {},
   "outputs": [],
   "source": [
    "import matplotlib.pyplot as plt\n",
    "%matplotlib inline\n",
    "a=[0,1,2,3,4,5,6,7,8,9,10,11,12]"
   ]
  },
  {
   "cell_type": "code",
   "execution_count": 8,
   "metadata": {},
   "outputs": [
    {
     "data": {
      "image/png": "[encoded data removed]",
      "text/plain": [
       "<Figure size 432x288 with 1 Axes>"
      ]
     },
     "metadata": {},
     "output_type": "display_data"
    }
   ],
   "source": [
    "b=[21.4,14.7,14.1,13.8, 13.4,12.8,12.6,12.7,13.4,13.9,14.5,14.6,14.9]\n",
    "plt.plot(a,b)\n",
    "plt.xlabel('No. of Previous Data Included')\n",
    "plt.ylabel('Error %');"
   ]
  },
  {
   "cell_type": "code",
   "execution_count": null,
   "metadata": {},
   "outputs": [],
   "source": []
  }
 ],
 "metadata": {
  "kernelspec": {
   "display_name": "Python 3",
   "language": "python",
   "name": "python3"
  },
  "language_info": {
   "codemirror_mode": {
    "name": "ipython",
    "version": 3
   },
   "file_extension": ".py",
   "mimetype": "text/x-python",
   "name": "python",
   "nbconvert_exporter": "python",
   "pygments_lexer": "ipython3",
   "version": "3.6.5"
  }
 },
 "nbformat": 4,
 "nbformat_minor": 2
}
